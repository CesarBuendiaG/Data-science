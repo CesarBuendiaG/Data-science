{
 "cells": [
  {
   "cell_type": "markdown",
   "id": "15d8cb5f",
   "metadata": {},
   "source": [
    "Aqui vamos a ejecutar el modelo de la manera ideal para entrenarlo\n",
    "- Tenemos que divir nuestro datos entre datos de entrenamiendo y datos de practica (idealmente 80-20%)  \n",
    "con el fin de verificar que nuestro modelo esta prediciendo como deviese hacerlo"
   ]
  },
  {
   "cell_type": "code",
   "execution_count": 46,
   "id": "2a95a22e",
   "metadata": {},
   "outputs": [
    {
     "data": {
      "text/plain": [
       "array(['fps', 'jrpg', 'accion'], dtype=object)"
      ]
     },
     "execution_count": 46,
     "metadata": {},
     "output_type": "execute_result"
    }
   ],
   "source": [
    "import pandas as pd # Libreria main\n",
    "from sklearn.tree import DecisionTreeClassifier # modulo para el algoritmo de arbol de decisiones \n",
    "from sklearn.model_selection import train_test_split # modulo para separar data de entrenamiento y practica\n",
    "from sklearn.metrics import accuracy_score # modulo para comprar resultados (medir la exactitud)\n",
    "\n",
    "# Preprar la data\n",
    "df = pd.read_csv(\"fuentes/juegos.csv\")\n",
    "X = df.drop(columns=[\"juegos\"]) # Crear tabla de valores de entrada\n",
    "y = df[\"juegos\"] # Creas tu tabla de valores de salida\n",
    "\n",
    "# Para dividir nuestros datos llamamos a train_test_split(dPredecir, dResultados,test_size=(0-1 / ideal 0.2))\n",
    "# Esto nos regresa una tupla de data dividida entre entrenamiento y practica de cada tabla (2x2 = 4 en total)\n",
    "# Esta tupla la podemos desempaquetar mediante comprension de listas\n",
    "X_entrenar, X_prueba, y_entrenar, y_prueba = train_test_split(X.values,y, test_size=0.2)\n",
    "# ----------------------------------------------------\n",
    "\n",
    "# Cargar la data \n",
    "modelo = DecisionTreeClassifier() # modelo de arbol de decisiones\n",
    "# fit para entrenar, por lo que hay que pasar nuestros datos de entrenamiento:\n",
    "modelo.fit(X_entrenar,y_entrenar)\n",
    "predicciones = modelo.predict([[14,0],[29,0],[30,0]]) # Valores que queremos predecir\n",
    "predicciones\n"
   ]
  },
  {
   "cell_type": "markdown",
   "id": "c188ac7e",
   "metadata": {},
   "source": [
    "Nos arroja las mismas predicciones: array(['fps', 'jrpg', 'accion'], dtype=object)"
   ]
  },
  {
   "cell_type": "markdown",
   "id": "5dc81b3f",
   "metadata": {},
   "source": [
    "Teninedo nuestra data de entrenamiento separada de nuestra data de prueba tanto de la entrada como de la salida, podemos comparar las predicciones que nos entregó nuestro modelo con las de nuestra data de prueba  \n",
    "Para eso importarmos el modulo \"from sklearn.metrics import accuracy_score\"\n"
   ]
  },
  {
   "cell_type": "code",
   "execution_count": 47,
   "id": "96e75495",
   "metadata": {},
   "outputs": [
    {
     "data": {
      "text/plain": [
       "0.5"
      ]
     },
     "execution_count": 47,
     "metadata": {},
     "output_type": "execute_result"
    }
   ],
   "source": [
    "# accuracy_score nos regresa un valor entre 0-1 donde 0 = completamente errada / 1 = completamente correcta\n",
    "# para eso le pasamos nuestra data de output prueba(y_prueba) \n",
    "# y la comparamos con la variable de predicciones PERO pasandole nuestra data input prueba (x_prueba)\n",
    "prediccion2 = modelo.predict(X_prueba)\n",
    "puntaje = accuracy_score(y_prueba, prediccion2)\n",
    "puntaje"
   ]
  },
  {
   "cell_type": "markdown",
   "id": "163db279",
   "metadata": {},
   "source": [
    "Debido a que tenemos muy pocos datos para entrenar cada vez que ejecutemos puede generar 0.25/0.75/1.0 , en un proyecto real necesitas miles y miles de datos para generar una prediccion mas estable  \n",
    "Otra cosa que podrias hacer es aumentar el tamaño del entrenamiento (disminuyendo el tamaño de la prueba), pero es poco recomendable, ya que queremos un modelo exacto"
   ]
  },
  {
   "cell_type": "markdown",
   "id": "a33fed24",
   "metadata": {},
   "source": [
    "Para guardar un modelo entrenado y no tener que entrenarlo cada vez que queramos usarlo se llama \"persistir modelos\", hay que limpiar todo (se ve en el siguiente archivo 05-Persistir)  \n",
    "Para eso importamos el modulo \"joblib\", que nos permite persistir y leerlos despues y pedirles predicciones  \n",
    "- Hacemos uso de joblib.dump() que recibe nuesto modelo(ya entrenado) y el nombre que le queremos asignar al modelo\n",
    "- joblib.dump(modelo, 'recomendador-juegos.joblib') / se guardo en esta misma carpeta\n",
    "\n",
    "\n",
    "- Para acceder al modelo y pedirle predicciones  \n",
    "modelito = joblib.load('recomendador-juegos.joblib')  \n",
    "predic = modelo.predict([[14,0]])  \n",
    "predic"
   ]
  },
  {
   "cell_type": "code",
   "execution_count": null,
   "id": "a9dc7d12",
   "metadata": {},
   "outputs": [],
   "source": []
  }
 ],
 "metadata": {
  "kernelspec": {
   "display_name": "Python 3 (ipykernel)",
   "language": "python",
   "name": "python3"
  },
  "language_info": {
   "codemirror_mode": {
    "name": "ipython",
    "version": 3
   },
   "file_extension": ".py",
   "mimetype": "text/x-python",
   "name": "python",
   "nbconvert_exporter": "python",
   "pygments_lexer": "ipython3",
   "version": "3.11.4"
  }
 },
 "nbformat": 4,
 "nbformat_minor": 5
}
