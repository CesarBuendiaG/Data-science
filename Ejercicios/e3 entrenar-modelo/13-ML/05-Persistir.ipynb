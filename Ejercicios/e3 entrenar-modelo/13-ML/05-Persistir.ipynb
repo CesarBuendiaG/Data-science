{
 "cells": [
  {
   "cell_type": "code",
   "execution_count": 5,
   "id": "0c79815f",
   "metadata": {},
   "outputs": [
    {
     "data": {
      "text/plain": [
       "array(['fps'], dtype=object)"
      ]
     },
     "execution_count": 5,
     "metadata": {},
     "output_type": "execute_result"
    }
   ],
   "source": [
    "import pandas as pd\n",
    "from sklearn.tree import DecisionTreeClassifier\n",
    "import joblib\n",
    "\n",
    "\n",
    "# guardar modelo entrenado\n",
    "# df = pd.read_csv(\"fuentes/juegos.csv\")\n",
    "# X = df.drop(columns=[\"juegos\"])\n",
    "# y = df[\"juegos\"]\n",
    "\n",
    "# modelo = DecisionTreeClassifier()\n",
    "# modelo.fit(X.values,y)\n",
    "\n",
    "# joblib.dump(modelo, 'recomendador-juegos.joblib')\n",
    "\n",
    "\n",
    "# acceder al modelo y pedirle predicciones\n",
    "modelito = joblib.load('recomendador-juegos.joblib')\n",
    "predic = modelito.predict([[14,0]])\n",
    "predic # array(['fps'], dtype=object)"
   ]
  }
 ],
 "metadata": {
  "kernelspec": {
   "display_name": "Python 3 (ipykernel)",
   "language": "python",
   "name": "python3"
  },
  "language_info": {
   "codemirror_mode": {
    "name": "ipython",
    "version": 3
   },
   "file_extension": ".py",
   "mimetype": "text/x-python",
   "name": "python",
   "nbconvert_exporter": "python",
   "pygments_lexer": "ipython3",
   "version": "3.11.4"
  }
 },
 "nbformat": 4,
 "nbformat_minor": 5
}
